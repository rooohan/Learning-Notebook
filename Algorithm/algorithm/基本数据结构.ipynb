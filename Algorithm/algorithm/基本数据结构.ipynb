{
 "cells": [
  {
   "cell_type": "markdown",
   "id": "86145a04-4767-49ca-b7dd-89bbc69493f6",
   "metadata": {},
   "source": [
    "本章学习使用`指针`可以构建的简单数据结构:\n",
    "\n",
    "- 栈    (Stack) (先进后出)\n",
    "- 队列  (Queue) (先进先出)\n",
    "- 链表\n",
    "- 有根树"
   ]
  },
  {
   "cell_type": "markdown",
   "id": "9cb67235-9bf2-420d-8b6b-911d69551283",
   "metadata": {},
   "source": [
    "# Stack\n",
    "\"栈\"是一种特殊的线性表，它只允许在表的一端（称为栈顶）进行插入和删除操作。栈是一种后进先出（Last In First Out，LIFO）的数据结构，最后插入的元素将会第一个被取出。\n",
    "\n",
    "以下是一个简单的Python实现的栈类："
   ]
  },
  {
   "cell_type": "code",
   "execution_count": 24,
   "id": "2188d091-d7e0-42c4-abe5-5e13fc3c1be7",
   "metadata": {},
   "outputs": [],
   "source": [
    "class Stack:\n",
    "    def __init__(self):\n",
    "        self._items = []\n",
    "\n",
    "    @property\n",
    "    def is_empty(self):\n",
    "        return not bool(len(self))\n",
    "\n",
    "    def push(self, data):\n",
    "        self._items.append(data)\n",
    "\n",
    "    def pop(self):\n",
    "        if self.is_empty:\n",
    "            raise IndexError(\"item is empty\")\n",
    "        return self._items.pop()\n",
    "\n",
    "    def __len__(self):\n",
    "        return len(self._items)\n",
    "    \n",
    "    def __repr__(self):\n",
    "        return str(self._items)"
   ]
  },
  {
   "cell_type": "code",
   "execution_count": null,
   "id": "7e491b73",
   "metadata": {},
   "outputs": [],
   "source": [
    "stack = Stack()\n",
    "stack.push(1)\n",
    "stack.push(2)\n",
    "stack.pop()"
   ]
  },
  {
   "cell_type": "markdown",
   "id": "b5acc705",
   "metadata": {},
   "source": [
    "# Queue\n",
    "队列是一种先进先出(FIFO)的线性表, 因为`Python`的 [queue](https://docs.python.org/zh-cn/3.12/library/queue.html#module-queue) 实现了三种队列,所以此处直接使用Python自带数据结构.\n",
    ">  queue使用锁来临时阻塞竞争线程, 但被设计用于线程的重入性处理。"
   ]
  },
  {
   "cell_type": "code",
   "execution_count": 48,
   "id": "52c5d843",
   "metadata": {},
   "outputs": [
    {
     "name": "stdout",
     "output_type": "stream",
     "text": [
      "put item 0\n",
      "put item 1\n",
      "get item 0\n",
      "get item 1\n",
      "All work completed\n"
     ]
    }
   ],
   "source": [
    "import threading\n",
    "import queue\n",
    "\n",
    "q = queue.Queue()\n",
    "\n",
    "def worker():\n",
    "    while True:\n",
    "        item = q.get()\n",
    "        print(f'get item {item}')\n",
    "        q.task_done()  # 后面q.join()会阻塞线程, 除非运行了len(queue)次数的task_done()\n",
    "\n",
    "# Turn-on the worker thread.\n",
    "threading.Thread(target=worker, daemon=True).start()\n",
    "\n",
    "# Send thirty task requests to the worker.\n",
    "for item in range(2):\n",
    "    q.put(item)\n",
    "    print(f'put item {item}')\n",
    "\n",
    "# Block until all tasks are done.\n",
    "q.join()\n",
    "print('All work completed')"
   ]
  },
  {
   "cell_type": "markdown",
   "id": "4ab329d2",
   "metadata": {},
   "source": [
    "# 链表\n",
    "链表(linked list),与数组的不同之处在于: 链表的顺序由其各个元素的指针决定的. 常见的类型有:\n",
    "\n",
    "- 空链表: chain.head = Null\n",
    "- 链表: \n",
    " - chain.head = some_obj \n",
    " - chain.tail = some_obj\n",
    " - obj.next = next_obj\n",
    "- 双向链表: \n",
    " - obj.prev = prev_obj \n",
    "- 循环链表: \n",
    " - chain.tail = chain.head\n"
   ]
  },
  {
   "cell_type": "code",
   "execution_count": 2,
   "id": "ba5eeb0e",
   "metadata": {},
   "outputs": [],
   "source": [
    "from dataclasses import dataclass\n",
    "from typing import Any, Optional\n",
    "\n",
    "\n",
    "@dataclass\n",
    "class Node:\n",
    "    data: Any  \n",
    "    next: Optional['Node']\n"
   ]
  },
  {
   "cell_type": "code",
   "execution_count": 3,
   "id": "5bd3d124",
   "metadata": {},
   "outputs": [
    {
     "data": {
      "text/plain": [
       "Node(data=1, next=Node(data=2, next=None))"
      ]
     },
     "execution_count": 3,
     "metadata": {},
     "output_type": "execute_result"
    }
   ],
   "source": [
    "tail = Node(data=2,next=None)\n",
    "chain = Node(data=1, next=tail)\n",
    "chain"
   ]
  },
  {
   "cell_type": "markdown",
   "id": "57546533",
   "metadata": {},
   "source": [
    "链表的插入时间复杂度是`O(1)`, 删除的时间复杂度是`O(n)`"
   ]
  },
  {
   "cell_type": "code",
   "execution_count": 4,
   "id": "b9abcb94",
   "metadata": {},
   "outputs": [],
   "source": [
    "@dataclass\n",
    "class Node:\n",
    "    next: Optional['Node']\n",
    "    data: Any  # deflye\n",
    "\n",
    "    def del_next(self):\n",
    "        if self.next and self.next.next:\n",
    "            self.next = self.next.next\n",
    "        else:\n",
    "            self.next = None\n",
    "    \n",
    "    def insert(self, data: Any):\n",
    "        new_node = Node(data=data, next=self.next)\n",
    "        self.next = new_node\n",
    "    \n",
    "    def del_node(self, node: 'Node'):\n",
    "        if self.next is None:\n",
    "            raise ValueError(\"Node not in chain\")\n",
    "\n",
    "        if self.next is node:\n",
    "            self.next = node.next\n",
    "        else:\n",
    "            self.next.del_node(node)\n",
    "        "
   ]
  },
  {
   "cell_type": "code",
   "execution_count": 6,
   "id": "76bc7a8a",
   "metadata": {},
   "outputs": [
    {
     "name": "stdout",
     "output_type": "stream",
     "text": [
      "Node(next=Node(next=Node(next=None, data=10), data=5), data=1)\n",
      "Node(next=Node(next=None, data=5), data=1)\n"
     ]
    }
   ],
   "source": [
    "tail = Node(data=10,next=None)\n",
    "chain = Node(data=1, next=tail)\n",
    "chain.insert(5)\n",
    "print(chain)\n",
    "chain.del_node(tail)\n",
    "print(chain)"
   ]
  },
  {
   "cell_type": "code",
   "execution_count": null,
   "id": "511af66b",
   "metadata": {},
   "outputs": [],
   "source": []
  }
 ],
 "metadata": {
  "kernelspec": {
   "display_name": "Python 3 (ipykernel)",
   "language": "python",
   "name": "python3"
  },
  "language_info": {
   "codemirror_mode": {
    "name": "ipython",
    "version": 3
   },
   "file_extension": ".py",
   "mimetype": "text/x-python",
   "name": "python",
   "nbconvert_exporter": "python",
   "pygments_lexer": "ipython3",
   "version": "3.10.12"
  }
 },
 "nbformat": 4,
 "nbformat_minor": 5
}
