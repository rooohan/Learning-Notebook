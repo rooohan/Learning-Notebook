{
 "cells": [
  {
   "cell_type": "markdown",
   "id": "86145a04-4767-49ca-b7dd-89bbc69493f6",
   "metadata": {},
   "source": [
    "本章学习使用`指针`可以构建的简单数据结构:\n",
    "\n",
    "- 栈    (Stack) (先进后出)\n",
    "- 队列  (Queue) (先进先出)\n",
    "- 链表\n",
    "- 有根树"
   ]
  },
  {
   "cell_type": "markdown",
   "id": "9cb67235-9bf2-420d-8b6b-911d69551283",
   "metadata": {},
   "source": [
    "# Stack\n",
    "\"栈\"是一种特殊的线性表，它只允许在表的一端（称为栈顶）进行插入和删除操作。栈是一种后进先出（Last In First Out，LIFO）的数据结构，最后插入的元素将会第一个被取出。\n",
    "\n",
    "以下是一个简单的Python实现的栈类："
   ]
  },
  {
   "cell_type": "code",
   "execution_count": null,
   "id": "2188d091-d7e0-42c4-abe5-5e13fc3c1be7",
   "metadata": {},
   "outputs": [],
   "source": [
    "class Stack:\n",
    "    def __init__(self):\n",
    "        self.items = []\n",
    "\n",
    "    def is_empty(self):\n",
    "        return not bool(self.items)\n",
    "\n",
    "    def push(self, data):\n",
    "        self.items.append(data)\n",
    "\n",
    "    def pop(self):\n",
    "        return self.items.pop()\n",
    "\n",
    "    def peek(self):\n",
    "        return self.items[-1]\n",
    "\n",
    "    def size(self):\n",
    "        return len(self.items)"
   ]
  }
 ],
 "metadata": {
  "kernelspec": {
   "display_name": "Python 3 (ipykernel)",
   "language": "python",
   "name": "python3"
  },
  "language_info": {
   "codemirror_mode": {
    "name": "ipython",
    "version": 3
   },
   "file_extension": ".py",
   "mimetype": "text/x-python",
   "name": "python",
   "nbconvert_exporter": "python",
   "pygments_lexer": "ipython3",
   "version": "3.10.12"
  }
 },
 "nbformat": 4,
 "nbformat_minor": 5
}
